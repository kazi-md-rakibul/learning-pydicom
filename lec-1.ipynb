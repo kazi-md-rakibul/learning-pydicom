{
 "cells": [
  {
   "cell_type": "code",
   "execution_count": 1,
   "id": "15451133",
   "metadata": {},
   "outputs": [
    {
     "name": "stdout",
     "output_type": "stream",
     "text": [
      "Starting Pydicom\n"
     ]
    }
   ],
   "source": [
    "##Starting Pydicom\n",
    "print(\"Starting Pydicom\")"
   ]
  },
  {
   "cell_type": "code",
   "execution_count": 2,
   "id": "70f227df",
   "metadata": {},
   "outputs": [],
   "source": [
    "import numpy as np\n",
    "import pydicom\n",
    "import matplotlib.pyplot as plt\n",
    "from PIL import Image"
   ]
  },
  {
   "cell_type": "code",
   "execution_count": 4,
   "id": "440a0b3f",
   "metadata": {},
   "outputs": [],
   "source": [
    "im = pydicom.dcmread('1-119.dcm')\n",
    "im = im.pixel_array.astype(float)\n",
    "\n",
    "rescaled_image = (np.maximum(im,0)/im.max())*255 #float pixel\n",
    "\n",
    "final_image = np.uint8(rescaled_image) #int pixel\n",
    "\n",
    "final_image = Image.fromarray(final_image)\n",
    "\n",
    "final_image.show()"
   ]
  }
 ],
 "metadata": {
  "kernelspec": {
   "display_name": "Python 3",
   "language": "python",
   "name": "python3"
  },
  "language_info": {
   "codemirror_mode": {
    "name": "ipython",
    "version": 3
   },
   "file_extension": ".py",
   "mimetype": "text/x-python",
   "name": "python",
   "nbconvert_exporter": "python",
   "pygments_lexer": "ipython3",
   "version": "3.11.9"
  }
 },
 "nbformat": 4,
 "nbformat_minor": 5
}
